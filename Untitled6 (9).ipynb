{
 "cells": [
  {
   "cell_type": "markdown",
   "id": "91e669e9-4f55-437e-b35f-9d74506a0237",
   "metadata": {
    "tags": []
   },
   "source": [
    "Chapter 2 EX."
   ]
  },
  {
   "cell_type": "markdown",
   "id": "d18e90c3-6abb-4e27-b254-2c2e39e140b0",
   "metadata": {},
   "source": [
    "completing activities out of python textbook"
   ]
  },
  {
   "cell_type": "markdown",
   "id": "1fa4d6fe-7ecc-48a6-871f-4843aa182e15",
   "metadata": {
    "tags": []
   },
   "source": [
    "# algorithm workbench 9,12"
   ]
  },
  {
   "cell_type": "markdown",
   "id": "780886e5-d45e-41a4-b271-5cb5c6d981da",
   "metadata": {},
   "source": [
    "## 9. What would the following display: num=99 num=5 print(num)"
   ]
  },
  {
   "cell_type": "markdown",
   "id": "c1b0d33a-f9c2-4531-8c1e-f105a446a0c5",
   "metadata": {},
   "source": [
    "Answer: 5\n",
    "\n",
    "the 5 cancels out the prior input of 99, so the num would = 5, print(5) would come out as: 5"
   ]
  },
  {
   "cell_type": "markdown",
   "id": "7e33a87f-8540-4a3a-a1c5-c76817a4d9db",
   "metadata": {},
   "source": [
    "## 12. What would the following statement display? \n",
    "print('George', 'Paul', 'Ringo', sep='@')"
   ]
  },
  {
   "cell_type": "markdown",
   "id": "fb8ca453-36a3-4687-ab02-654aa6c216a3",
   "metadata": {},
   "source": [
    "Answer: George@Paul@Ringo\n",
    "\n",
    "sep= changes the separator so instead of a space it adds the @ sign in between each name"
   ]
  },
  {
   "cell_type": "code",
   "execution_count": 18,
   "id": "07c43ce8-e993-44d5-9d3e-94cd86601dc2",
   "metadata": {},
   "outputs": [
    {
     "name": "stdout",
     "output_type": "stream",
     "text": [
      "George@Paul@Ringo\n"
     ]
    }
   ],
   "source": [
    "print('George', 'Paul', 'Ringo', sep='@')"
   ]
  },
  {
   "cell_type": "markdown",
   "id": "7cf0a428-be6a-4a94-832a-ee21761e132a",
   "metadata": {
    "tags": []
   },
   "source": [
    "# programmming excersizes 1,13"
   ]
  },
  {
   "cell_type": "markdown",
   "id": "efbbc5dd-000e-424a-8d4f-457442666dc5",
   "metadata": {
    "tags": []
   },
   "source": [
    "## 1. Writing a program that displays your name, address ( city, state, zip), phone number and college major"
   ]
  },
  {
   "cell_type": "code",
   "execution_count": null,
   "id": "f3d2779b-929f-4873-bc57-002e1caa91a3",
   "metadata": {},
   "outputs": [],
   "source": []
  },
  {
   "cell_type": "markdown",
   "id": "5d0acb5c-f8f5-4df3-aae8-b02a6b3f0296",
   "metadata": {},
   "source": [
    "make input for users to add their personal info"
   ]
  },
  {
   "cell_type": "markdown",
   "id": "664df451-2338-4f1e-8dd1-c2bbdee60aad",
   "metadata": {},
   "source": [
    "name=input(enter your name: )\n",
    "\n",
    "address=input(enter your address: )\n",
    "\n",
    "city=input(enter your city: )\n",
    "\n",
    "state=input(enter your state: )\n",
    "\n",
    "zip=input(enter your zip: )\n",
    "\n",
    "phone=(enter your phone: )\n",
    "\n",
    "major=(enter your major: )"
   ]
  },
  {
   "cell_type": "markdown",
   "id": "45b38527-e359-4f8a-b780-488796d5a0f2",
   "metadata": {},
   "source": [
    "get to display the info provided"
   ]
  },
  {
   "cell_type": "markdown",
   "id": "b5415c7b-09e1-4014-9259-5f19d75dca7e",
   "metadata": {},
   "source": [
    "print(\"name:\", name)\n",
    "\n",
    "print(\"address:\", address)\n",
    "\n",
    "print(\"city:\", city)\n",
    "\n",
    "print(\"state:\", state)\n",
    "\n",
    "print(\"zip:\", zip)\n",
    "\n",
    "print(\"phone:\", phone)\n",
    "\n",
    "print(\"major:\", major)"
   ]
  },
  {
   "cell_type": "markdown",
   "id": "80a85e94-fcb5-46a8-b95e-6b6909df4d54",
   "metadata": {},
   "source": [
    "try code out "
   ]
  },
  {
   "cell_type": "code",
   "execution_count": 17,
   "id": "f2dba7ee-1d87-4f6c-aec7-bb88dd25e1c0",
   "metadata": {},
   "outputs": [
    {
     "ename": "SyntaxError",
     "evalue": "invalid syntax. Perhaps you forgot a comma? (2668710226.py, line 9)",
     "output_type": "error",
     "traceback": [
      "\u001b[0;36m  Cell \u001b[0;32mIn[17], line 9\u001b[0;36m\u001b[0m\n\u001b[0;31m    name=input(enter your name: )\u001b[0m\n\u001b[0m               ^\u001b[0m\n\u001b[0;31mSyntaxError\u001b[0m\u001b[0;31m:\u001b[0m invalid syntax. Perhaps you forgot a comma?\n"
     ]
    }
   ],
   "source": [
    "\n",
    "print(\"name:\", name)\n",
    "print(\"address:\", address)\n",
    "print(\"city:\", city)\n",
    "print(\"state:\", state)\n",
    "print(\"zip:\", zip)\n",
    "print(\"phone:\", phone)\n",
    "print(\"major:\", major)\n",
    "\n",
    "name=input(enter your name: )\n",
    "address=input(enter your address: )\n",
    "city=input(enter your city: )\n",
    "state=input(enter your state: )\n",
    "zip=input(enter your zip: )\n",
    "phone=(enter your phone: )\n",
    "major=(enter your major: )"
   ]
  },
  {
   "cell_type": "code",
   "execution_count": 20,
   "id": "2393b801-740a-48e0-9cab-72c427181078",
   "metadata": {},
   "outputs": [
    {
     "ename": "SyntaxError",
     "evalue": "invalid syntax. Perhaps you forgot a comma? (761387505.py, line 1)",
     "output_type": "error",
     "traceback": [
      "\u001b[0;36m  Cell \u001b[0;32mIn[20], line 1\u001b[0;36m\u001b[0m\n\u001b[0;31m    name = input(enter your name: )\u001b[0m\n\u001b[0m                 ^\u001b[0m\n\u001b[0;31mSyntaxError\u001b[0m\u001b[0;31m:\u001b[0m invalid syntax. Perhaps you forgot a comma?\n"
     ]
    }
   ],
   "source": [
    "name = input(enter your name: )\n",
    "\n",
    "address = input(enter your address: )\n",
    "\n",
    "city = input(enter your city: )\n",
    "\n",
    "state = input(enter your state: )\n",
    "\n",
    "zip = input(enter your zip: )\n",
    "\n",
    "phone = input(enter your phone: )\n",
    "\n",
    "major = input(enter your major: )\n",
    "\n",
    "print(\"name:\", name)\n",
    "\n",
    "print(\"address:\", address)\n",
    "\n",
    "print(\"city:\", city)\n",
    "\n",
    "print(\"state:\", state)\n",
    "\n",
    "print(\"zip:\", zip)\n",
    "\n",
    "print(\"phone:\", phone)\n",
    "\n",
    "print(\"major:\", major)"
   ]
  },
  {
   "cell_type": "code",
   "execution_count": 22,
   "id": "2ff35c3f-ee95-4c2e-9ceb-f309786e758f",
   "metadata": {},
   "outputs": [
    {
     "name": "stdin",
     "output_type": "stream",
     "text": [
      "enter your name:  averi\n",
      "enter your address:  123 rainbow st\n",
      "enter your city:  lansing\n",
      "enter your state:  michigan\n",
      "enter your zip:  48910\n",
      "enter your phone:  5171234567\n",
      "enter your major:  computer science\n"
     ]
    },
    {
     "name": "stdout",
     "output_type": "stream",
     "text": [
      "name: averi\n",
      "address: 123 rainbow st\n",
      "city: lansing\n",
      "state: michigan\n",
      "zip: 48910\n",
      "phone: 5171234567\n",
      "major: computer science\n"
     ]
    }
   ],
   "source": [
    "name = input(\"enter your name: \")\n",
    "\n",
    "address = input(\"enter your address: \")\n",
    "\n",
    "city = input(\"enter your city: \")\n",
    "\n",
    "state = input(\"enter your state: \")\n",
    "\n",
    "zip = input(\"enter your zip: \")\n",
    "\n",
    "phone = input(\"enter your phone: \")\n",
    "\n",
    "major = input(\"enter your major: \")\n",
    "\n",
    "print(\"name:\", name)\n",
    "\n",
    "print(\"address:\", address)\n",
    "\n",
    "print(\"city:\", city)\n",
    "\n",
    "print(\"state:\", state)\n",
    "\n",
    "print(\"zip:\", zip)\n",
    "\n",
    "print(\"phone:\", phone)\n",
    "\n",
    "print(\"major:\", major)"
   ]
  },
  {
   "cell_type": "markdown",
   "id": "a62090ff-eea4-419a-bc00-430ba6ff85d3",
   "metadata": {},
   "source": [
    "## 13. write a program that makes the calculation for the vineyard owner"
   ]
  },
  {
   "cell_type": "markdown",
   "id": "a1ca7e38-0a70-4f0e-9d2a-ab781d0d86f2",
   "metadata": {},
   "source": [
    "v is the number of grapevines that will fit in a row\n",
    "\n",
    "r is the length of the row, in feet\n",
    "\n",
    "e is the amount of space, in feet, used by an end-post assembly\n",
    "\n",
    "s is the space between vines, in feet\n",
    "\n",
    "fomula: v=r-2e/s "
   ]
  },
  {
   "cell_type": "markdown",
   "id": "18e1fa80-ed8d-43ed-9626-cafd3a80ff2a",
   "metadata": {},
   "source": [
    "create program that ask the user to input the following: \n",
    "\n",
    "the length of row, in feet\n",
    "\n",
    "the amount of space used by an end-post assembly, in feet\n",
    "\n",
    "the amount of space between the vines, in feet"
   ]
  },
  {
   "cell_type": "markdown",
   "id": "edf4bbf9-6087-45b2-9c64-ec4604ad042d",
   "metadata": {},
   "source": [
    "going to use float because their might be decimal numbers"
   ]
  },
  {
   "cell_type": "code",
   "execution_count": 37,
   "id": "4c6dceed-0938-40c6-ab5e-cc0855e59a1b",
   "metadata": {},
   "outputs": [
    {
     "ename": "SyntaxError",
     "evalue": "invalid syntax. Perhaps you forgot a comma? (2701713728.py, line 1)",
     "output_type": "error",
     "traceback": [
      "\u001b[0;36m  Cell \u001b[0;32mIn[37], line 1\u001b[0;36m\u001b[0m\n\u001b[0;31m    r=(float(input(enter the length of row (in feet): )\u001b[0m\n\u001b[0m                   ^\u001b[0m\n\u001b[0;31mSyntaxError\u001b[0m\u001b[0;31m:\u001b[0m invalid syntax. Perhaps you forgot a comma?\n"
     ]
    }
   ],
   "source": [
    "r=(float(input(enter the length of row (in feet): )\n",
    "\n",
    "e=(float(input(enter the amount of space used by end-post assembly (in feet): )\n",
    "\n",
    "s=(float(input(enter the amount of space between vines (in feet): )\n"
   ]
  },
  {
   "cell_type": "code",
   "execution_count": 39,
   "id": "aa598d72-37e5-4bb2-94dd-d203e9f5e8f4",
   "metadata": {},
   "outputs": [
    {
     "ename": "SyntaxError",
     "evalue": "invalid syntax. Perhaps you forgot a comma? (4213258870.py, line 1)",
     "output_type": "error",
     "traceback": [
      "\u001b[0;36m  Cell \u001b[0;32mIn[39], line 1\u001b[0;36m\u001b[0m\n\u001b[0;31m    r=(float(input(\"enter the length of row (in feet): \")\u001b[0m\n\u001b[0m             ^\u001b[0m\n\u001b[0;31mSyntaxError\u001b[0m\u001b[0;31m:\u001b[0m invalid syntax. Perhaps you forgot a comma?\n"
     ]
    }
   ],
   "source": [
    "r=(float(input(\"enter the length of row (in feet): \")\n",
    "\n",
    "e=(float(input(\"enter the amount of space used by end-post assembly (in feet): \")\n",
    "\n",
    "s=(float(input(\"enter the amount of space between vines (in feet): \")\n"
   ]
  },
  {
   "cell_type": "markdown",
   "id": "ee8f1f91-f537-4b4a-a5c1-bd6e98ab0a82",
   "metadata": {},
   "source": [
    "going to add an extra parenthesis "
   ]
  },
  {
   "cell_type": "code",
   "execution_count": 44,
   "id": "a7f0507b-d587-4d1a-86b2-4ff23f74dae0",
   "metadata": {},
   "outputs": [
    {
     "ename": "SyntaxError",
     "evalue": "invalid syntax. Perhaps you forgot a comma? (3028581201.py, line 1)",
     "output_type": "error",
     "traceback": [
      "\u001b[0;36m  Cell \u001b[0;32mIn[44], line 1\u001b[0;36m\u001b[0m\n\u001b[0;31m    r=(float(input(\"enter the length of row (in feet): \"))\u001b[0m\n\u001b[0m       ^\u001b[0m\n\u001b[0;31mSyntaxError\u001b[0m\u001b[0;31m:\u001b[0m invalid syntax. Perhaps you forgot a comma?\n"
     ]
    }
   ],
   "source": [
    "r=(float(input(\"enter the length of row (in feet): \"))\n",
    "\n",
    "e=(float(input(\"enter the amount of space used by end-post assembly (in feet): \"))\n",
    "\n",
    "s=(float(input(\"enter the amount of space between vines (in feet): \"))\n"
   ]
  },
  {
   "cell_type": "markdown",
   "id": "3fb2bdcb-5aa9-4cf3-a5f3-176863277dbb",
   "metadata": {},
   "source": [
    "adding spacing between equal signs"
   ]
  },
  {
   "cell_type": "code",
   "execution_count": 47,
   "id": "31e6244c-a64c-423f-a8cd-0dbeb15f4063",
   "metadata": {},
   "outputs": [
    {
     "ename": "SyntaxError",
     "evalue": "invalid syntax. Perhaps you forgot a comma? (3517554444.py, line 1)",
     "output_type": "error",
     "traceback": [
      "\u001b[0;36m  Cell \u001b[0;32mIn[47], line 1\u001b[0;36m\u001b[0m\n\u001b[0;31m    r = (float(input(\"enter the length of row (in feet): \"))\u001b[0m\n\u001b[0m         ^\u001b[0m\n\u001b[0;31mSyntaxError\u001b[0m\u001b[0;31m:\u001b[0m invalid syntax. Perhaps you forgot a comma?\n"
     ]
    }
   ],
   "source": [
    "r = (float(input(\"enter the length of row (in feet): \"))\n",
    "\n",
    "e = (float(input(\"enter the amount of space used by end-post assembly (in feet): \"))\n",
    "\n",
    "s = (float(input(\"enter the amount of space between vines (in feet): \"))\n"
   ]
  },
  {
   "cell_type": "code",
   "execution_count": 51,
   "id": "49107ad0-e9f8-4d5f-b944-42f46f000e99",
   "metadata": {},
   "outputs": [
    {
     "name": "stdin",
     "output_type": "stream",
     "text": [
      "enter the length of row (in feet):  10\n",
      "enter the amount of space used by end-post assembly (in feet):  1\n",
      "enter the amount of space between vines (in feet):  15\n"
     ]
    },
    {
     "name": "stdout",
     "output_type": "stream",
     "text": [
      "the number of grapevines that will fit in a row: 0.53\n"
     ]
    }
   ],
   "source": [
    "r = float(input(\"enter the length of row (in feet): \"))\n",
    "\n",
    "e = float(input(\"enter the amount of space used by end-post assembly (in feet): \"))\n",
    "\n",
    "s = float(input(\"enter the amount of space between vines (in feet): \"))\n",
    "     \n",
    "v = ( r - e * 2 ) / s\n",
    "     \n",
    "print(f\"the number of grapevines that will fit in a row: {v:.2f}\")\n"
   ]
  },
  {
   "cell_type": "code",
   "execution_count": null,
   "id": "0fedb548-f2c7-4403-91af-b7d925b8875d",
   "metadata": {},
   "outputs": [],
   "source": []
  }
 ],
 "metadata": {
  "kernelspec": {
   "display_name": "anaconda-panel-2023.05-py310",
   "language": "python",
   "name": "conda-env-anaconda-panel-2023.05-py310-py"
  },
  "language_info": {
   "codemirror_mode": {
    "name": "ipython",
    "version": 3
   },
   "file_extension": ".py",
   "mimetype": "text/x-python",
   "name": "python",
   "nbconvert_exporter": "python",
   "pygments_lexer": "ipython3",
   "version": "3.11.4"
  }
 },
 "nbformat": 4,
 "nbformat_minor": 5
}
