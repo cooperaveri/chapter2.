{
 "cells": [
  {
   "cell_type": "markdown",
   "id": "91e669e9-4f55-437e-b35f-9d74506a0237",
   "metadata": {
    "tags": []
   },
   "source": [
    "Chapter 2 EX."
   ]
  },
  {
   "cell_type": "markdown",
   "id": "d18e90c3-6abb-4e27-b254-2c2e39e140b0",
   "metadata": {},
   "source": [
    "completing activities out of python textbook"
   ]
  },
  {
   "cell_type": "markdown",
   "id": "1fa4d6fe-7ecc-48a6-871f-4843aa182e15",
   "metadata": {
    "tags": []
   },
   "source": [
    "# algorithm workbench 9,12"
   ]
  },
  {
   "cell_type": "markdown",
   "id": "780886e5-d45e-41a4-b271-5cb5c6d981da",
   "metadata": {},
   "source": [
    "9. What would the following display: num=99 num=5 print(num)"
   ]
  },
  {
   "cell_type": "markdown",
   "id": "c1b0d33a-f9c2-4531-8c1e-f105a446a0c5",
   "metadata": {},
   "source": [
    "Answer: 5\n",
    "\n",
    "the 5 cancels out the prior input of 99, so the num would = 5, print(5) would come out as: 5"
   ]
  },
  {
   "cell_type": "markdown",
   "id": "7e33a87f-8540-4a3a-a1c5-c76817a4d9db",
   "metadata": {},
   "source": [
    "12. What would the following statement display? \n",
    "print('George', 'Paul', 'Ringo', sep='@')"
   ]
  },
  {
   "cell_type": "markdown",
   "id": "fb8ca453-36a3-4687-ab02-654aa6c216a3",
   "metadata": {},
   "source": [
    "Answer: George@Paul@Ringo\n",
    "\n",
    "sep= changes the separator so instead of a space it adds the @ sign in between each name"
   ]
  },
  {
   "cell_type": "code",
   "execution_count": 18,
   "id": "07c43ce8-e993-44d5-9d3e-94cd86601dc2",
   "metadata": {},
   "outputs": [
    {
     "name": "stdout",
     "output_type": "stream",
     "text": [
      "George@Paul@Ringo\n"
     ]
    }
   ],
   "source": [
    "print('George', 'Paul', 'Ringo', sep='@')"
   ]
  },
  {
   "cell_type": "markdown",
   "id": "7cf0a428-be6a-4a94-832a-ee21761e132a",
   "metadata": {
    "tags": []
   },
   "source": [
    "# programmming excersizes 1,13"
   ]
  },
  {
   "cell_type": "markdown",
   "id": "efbbc5dd-000e-424a-8d4f-457442666dc5",
   "metadata": {},
   "source": [
    "1. Writing a program that displays your name, address ( city, state, zip), phone number and college major"
   ]
  },
  {
   "cell_type": "code",
   "execution_count": null,
   "id": "f3d2779b-929f-4873-bc57-002e1caa91a3",
   "metadata": {},
   "outputs": [],
   "source": []
  },
  {
   "cell_type": "markdown",
   "id": "5d0acb5c-f8f5-4df3-aae8-b02a6b3f0296",
   "metadata": {},
   "source": [
    "make input for users to add their personal info"
   ]
  },
  {
   "cell_type": "markdown",
   "id": "664df451-2338-4f1e-8dd1-c2bbdee60aad",
   "metadata": {},
   "source": [
    "name=input(enter your name: )\n",
    "\n",
    "address=input(enter your address: )\n",
    "\n",
    "city=input(enter your city: )\n",
    "\n",
    "state=input(enter your state: )\n",
    "\n",
    "zip=input(enter your zip: )\n",
    "\n",
    "phone=(enter your phone: )\n",
    "\n",
    "major=(enter your major: )"
   ]
  },
  {
   "cell_type": "markdown",
   "id": "45b38527-e359-4f8a-b780-488796d5a0f2",
   "metadata": {},
   "source": [
    "get to display the info provided"
   ]
  },
  {
   "cell_type": "markdown",
   "id": "b5415c7b-09e1-4014-9259-5f19d75dca7e",
   "metadata": {},
   "source": [
    "print(\"name:\", name)\n",
    "\n",
    "print(\"address:\", address)\n",
    "\n",
    "print(\"city:\", city)\n",
    "\n",
    "print(\"state:\", state)\n",
    "\n",
    "print(\"zip:\", zip)\n",
    "\n",
    "print(\"phone:\", phone)\n",
    "\n",
    "print(\"major:\", major)"
   ]
  },
  {
   "cell_type": "markdown",
   "id": "80a85e94-fcb5-46a8-b95e-6b6909df4d54",
   "metadata": {},
   "source": [
    "try code out "
   ]
  },
  {
   "cell_type": "code",
   "execution_count": 17,
   "id": "f2dba7ee-1d87-4f6c-aec7-bb88dd25e1c0",
   "metadata": {},
   "outputs": [
    {
     "ename": "SyntaxError",
     "evalue": "invalid syntax. Perhaps you forgot a comma? (2668710226.py, line 9)",
     "output_type": "error",
     "traceback": [
      "\u001b[0;36m  Cell \u001b[0;32mIn[17], line 9\u001b[0;36m\u001b[0m\n\u001b[0;31m    name=input(enter your name: )\u001b[0m\n\u001b[0m               ^\u001b[0m\n\u001b[0;31mSyntaxError\u001b[0m\u001b[0;31m:\u001b[0m invalid syntax. Perhaps you forgot a comma?\n"
     ]
    }
   ],
   "source": [
    "\n",
    "print(\"name:\", name)\n",
    "print(\"address:\", address)\n",
    "print(\"city:\", city)\n",
    "print(\"state:\", state)\n",
    "print(\"zip:\", zip)\n",
    "print(\"phone:\", phone)\n",
    "print(\"major:\", major)\n",
    "\n",
    "name=input(enter your name: )\n",
    "address=input(enter your address: )\n",
    "city=input(enter your city: )\n",
    "state=input(enter your state: )\n",
    "zip=input(enter your zip: )\n",
    "phone=(enter your phone: )\n",
    "major=(enter your major: )"
   ]
  },
  {
   "cell_type": "code",
   "execution_count": null,
   "id": "2393b801-740a-48e0-9cab-72c427181078",
   "metadata": {},
   "outputs": [],
   "source": [
    "name = input(enter your name: )\n",
    "\n",
    "address = input(enter your address: )\n",
    "\n",
    "cit y= input(enter your city: )\n",
    "\n",
    "state=input(enter your state: )\n",
    "\n",
    "zip=input(enter your zip: )\n",
    "\n",
    "phone=(enter your phone: )\n",
    "\n",
    "major=(enter your major: )\n",
    "\n",
    "print(\"name:\", name)\n",
    "\n",
    "print(\"address:\", address)\n",
    "\n",
    "print(\"city:\", city)\n",
    "\n",
    "print(\"state:\", state)\n",
    "\n",
    "print(\"zip:\", zip)\n",
    "\n",
    "print(\"phone:\", phone)\n",
    "\n",
    "print(\"major:\", major)"
   ]
  }
 ],
 "metadata": {
  "kernelspec": {
   "display_name": "anaconda-panel-2023.05-py310",
   "language": "python",
   "name": "conda-env-anaconda-panel-2023.05-py310-py"
  },
  "language_info": {
   "codemirror_mode": {
    "name": "ipython",
    "version": 3
   },
   "file_extension": ".py",
   "mimetype": "text/x-python",
   "name": "python",
   "nbconvert_exporter": "python",
   "pygments_lexer": "ipython3",
   "version": "3.11.4"
  }
 },
 "nbformat": 4,
 "nbformat_minor": 5
}
