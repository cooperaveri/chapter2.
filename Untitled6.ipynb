{
 "cells": [
  {
   "cell_type": "markdown",
   "id": "91e669e9-4f55-437e-b35f-9d74506a0237",
   "metadata": {
    "tags": []
   },
   "source": [
    "Chapter 2 EX."
   ]
  },
  {
   "cell_type": "markdown",
   "id": "d18e90c3-6abb-4e27-b254-2c2e39e140b0",
   "metadata": {},
   "source": [
    "completing activities out of python textbook"
   ]
  },
  {
   "cell_type": "markdown",
   "id": "1fa4d6fe-7ecc-48a6-871f-4843aa182e15",
   "metadata": {
    "tags": []
   },
   "source": [
    "# algorithm workbench 9,12"
   ]
  },
  {
   "cell_type": "markdown",
   "id": "780886e5-d45e-41a4-b271-5cb5c6d981da",
   "metadata": {},
   "source": [
    "9. What would the following display: num=99 num=5 print(num)"
   ]
  },
  {
   "cell_type": "markdown",
   "id": "c1b0d33a-f9c2-4531-8c1e-f105a446a0c5",
   "metadata": {},
   "source": [
    "Answer: 5\n",
    "\n",
    "the 5 cancels out the prior input of 99, so the num would = 5, print(5) would come out as: 5"
   ]
  },
  {
   "cell_type": "markdown",
   "id": "7e33a87f-8540-4a3a-a1c5-c76817a4d9db",
   "metadata": {},
   "source": [
    "12. What would the following statement display? \n",
    "print('George', 'Paul', 'Ringo', sep='@')"
   ]
  },
  {
   "cell_type": "markdown",
   "id": "fb8ca453-36a3-4687-ab02-654aa6c216a3",
   "metadata": {},
   "source": [
    "Answer: George@Paul@Ringo\n",
    "\n",
    "sep= changes the separator so instead of a space it adds the @ sign in between each name"
   ]
  },
  {
   "cell_type": "code",
   "execution_count": 18,
   "id": "07c43ce8-e993-44d5-9d3e-94cd86601dc2",
   "metadata": {},
   "outputs": [
    {
     "name": "stdout",
     "output_type": "stream",
     "text": [
      "George@Paul@Ringo\n"
     ]
    }
   ],
   "source": [
    "print('George', 'Paul', 'Ringo', sep='@')"
   ]
  },
  {
   "cell_type": "markdown",
   "id": "7cf0a428-be6a-4a94-832a-ee21761e132a",
   "metadata": {
    "tags": []
   },
   "source": [
    "# programmming excersizes 1,13"
   ]
  },
  {
   "cell_type": "code",
   "execution_count": null,
   "id": "05b04d6b-3951-45d9-8c71-105fe7fa6b7d",
   "metadata": {},
   "outputs": [],
   "source": []
  }
 ],
 "metadata": {
  "kernelspec": {
   "display_name": "anaconda-panel-2023.05-py310",
   "language": "python",
   "name": "conda-env-anaconda-panel-2023.05-py310-py"
  },
  "language_info": {
   "codemirror_mode": {
    "name": "ipython",
    "version": 3
   },
   "file_extension": ".py",
   "mimetype": "text/x-python",
   "name": "python",
   "nbconvert_exporter": "python",
   "pygments_lexer": "ipython3",
   "version": "3.11.4"
  }
 },
 "nbformat": 4,
 "nbformat_minor": 5
}
